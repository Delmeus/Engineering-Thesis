{
 "cells": [
  {
   "metadata": {
    "ExecuteTime": {
     "end_time": "2024-10-06T13:36:10.760713Z",
     "start_time": "2024-10-06T13:36:10.429823Z"
    }
   },
   "cell_type": "code",
   "source": [
    "import pandas as pd\n",
    "\n",
    "# Load the CSV file\n",
    "csv_file = 'img/archive/binaryProblem.csv'\n",
    "df = pd.read_csv(csv_file)\n",
    "\n",
    "# Calculate the percentage of healthy images\n",
    "total_images = len(df)\n",
    "healthy_images = df['healthy'].sum()\n",
    "percentage_healthy = (healthy_images / total_images) * 100\n",
    "\n",
    "# Display the result\n",
    "print(f\"Percentage of healthy images: {percentage_healthy:.2f}%\")\n"
   ],
   "id": "9eafeafc86ce4af2",
   "outputs": [
    {
     "name": "stdout",
     "output_type": "stream",
     "text": [
      "Percentage of healthy images: 68.10%\n"
     ]
    }
   ],
   "execution_count": 1
  },
  {
   "metadata": {},
   "cell_type": "code",
   "outputs": [],
   "execution_count": null,
   "source": "",
   "id": "83b4481af663db6"
  }
 ],
 "metadata": {
  "kernelspec": {
   "display_name": "Python 3",
   "language": "python",
   "name": "python3"
  },
  "language_info": {
   "codemirror_mode": {
    "name": "ipython",
    "version": 2
   },
   "file_extension": ".py",
   "mimetype": "text/x-python",
   "name": "python",
   "nbconvert_exporter": "python",
   "pygments_lexer": "ipython2",
   "version": "2.7.6"
  }
 },
 "nbformat": 4,
 "nbformat_minor": 5
}
